{
 "cells": [
  {
   "cell_type": "code",
   "execution_count": null,
   "metadata": {},
   "outputs": [],
   "source": [
    "# in this we will work on multiple dataset together "
   ]
  },
  {
   "cell_type": "code",
   "execution_count": 19,
   "metadata": {},
   "outputs": [],
   "source": [
    "import numpy as np\n",
    "import pandas as pd\n",
    "courses=pd.read_csv(r'C:\\Users\\HP\\Desktop\\all folder\\pandas\\courses.csv')\n",
    "delivery=pd.read_csv(r'C:\\Users\\HP\\Desktop\\all folder\\pandas\\deliveries.csv')\n",
    "matches=pd.read_csv(r'C:\\Users\\HP\\Desktop\\all folder\\pandas\\matches - matches.csv')\n",
    "nov=pd.read_csv(r'C:\\Users\\HP\\Desktop\\all folder\\pandas\\reg-month1.csv')\n",
    "dec=pd.read_csv(r'C:\\Users\\HP\\Desktop\\all folder\\pandas\\reg-month2.csv')\n",
    "students=pd.read_csv(r'C:\\Users\\HP\\Desktop\\all folder\\pandas\\students.csv')"
   ]
  },
  {
   "cell_type": "code",
   "execution_count": 18,
   "metadata": {},
   "outputs": [],
   "source": [
    "#pd.concat\n",
    "#df.concat\n",
    "#ignore.index\n",
    "#df.append\n",
    "#multiindex -> fetch using iloc\n",
    "#concat dataframes horizontally "
   ]
  },
  {
   "cell_type": "code",
   "execution_count": 24,
   "metadata": {},
   "outputs": [],
   "source": [
    "#how to join two or more dataset\n",
    "\n",
    "#concat -> ignore_index -> keys =[] -> loc[()] -> horizontal join\n",
    "\n",
    "pd.concat([nov,dec]) # here dec dataset will start from 0 index in btw\n",
    "regs=pd.concat([nov,dec],ignore_index=True)"
   ]
  },
  {
   "cell_type": "code",
   "execution_count": 21,
   "metadata": {},
   "outputs": [],
   "source": [
    "#multi_index df --if u dont want to loose index\n",
    "multi_index=pd.concat([nov,dec],keys=['nov','dec'])"
   ]
  },
  {
   "cell_type": "code",
   "execution_count": 22,
   "metadata": {},
   "outputs": [
    {
     "data": {
      "text/plain": [
       "student_id    23\n",
       "course_id      1\n",
       "Name: (nov, 0), dtype: int64"
      ]
     },
     "execution_count": 22,
     "metadata": {},
     "output_type": "execute_result"
    }
   ],
   "source": [
    "#easy fatching\n",
    "multi_index.loc['nov']\n",
    "#particular index-tuple\n",
    "multi_index.loc[('nov',0)]"
   ]
  },
  {
   "cell_type": "code",
   "execution_count": null,
   "metadata": {},
   "outputs": [],
   "source": [
    "pd.concat([nov,dec],axis=1)"
   ]
  },
  {
   "cell_type": "code",
   "execution_count": null,
   "metadata": {},
   "outputs": [],
   "source": []
  },
  {
   "cell_type": "code",
   "execution_count": null,
   "metadata": {},
   "outputs": [],
   "source": []
  }
 ],
 "metadata": {
  "kernelspec": {
   "display_name": "Python 3",
   "language": "python",
   "name": "python3"
  },
  "language_info": {
   "codemirror_mode": {
    "name": "ipython",
    "version": 3
   },
   "file_extension": ".py",
   "mimetype": "text/x-python",
   "name": "python",
   "nbconvert_exporter": "python",
   "pygments_lexer": "ipython3",
   "version": "3.10.4"
  }
 },
 "nbformat": 4,
 "nbformat_minor": 2
}
