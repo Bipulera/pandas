{
 "cells": [
  {
   "cell_type": "code",
   "execution_count": null,
   "metadata": {},
   "outputs": [],
   "source": [
    "# data frame functions\n"
   ]
  },
  {
   "cell_type": "code",
   "execution_count": 2,
   "metadata": {},
   "outputs": [],
   "source": [
    "import numpy as np\n",
    "import pandas as pd\n",
    "movies_df=pd.read_csv(r'C:\\Users\\HP\\Desktop\\all folder\\pandas\\movies.csv')\n",
    "ipl_df=pd.read_csv(r'C:\\Users\\HP\\Desktop\\all folder\\pandas\\ipl-matches.csv')\n",
    "student_details_dict={\n",
    "    'name':['archit','ram','bipul','subh','shalini','anu'],\n",
    "    'iq':[100,90,120,80,0,0],\n",
    "    'marks':[80,70,100,50,0,0],\n",
    "    'package':[10,7,14,2,0,0]\n",
    "}\n",
    "student_df=pd.DataFrame(student_details_dict)"
   ]
  },
  {
   "cell_type": "code",
   "execution_count": 6,
   "metadata": {},
   "outputs": [
    {
     "name": "stdout",
     "output_type": "stream",
     "text": [
      "<class 'pandas.core.frame.DataFrame'>\n",
      "RangeIndex: 950 entries, 0 to 949\n",
      "Data columns (total 20 columns):\n",
      " #   Column           Non-Null Count  Dtype  \n",
      "---  ------           --------------  -----  \n",
      " 0   ID               950 non-null    int64  \n",
      " 1   City             899 non-null    object \n",
      " 2   Date             950 non-null    object \n",
      " 3   Season           950 non-null    object \n",
      " 4   MatchNumber      950 non-null    object \n",
      " 5   Team1            950 non-null    object \n",
      " 6   Team2            950 non-null    object \n",
      " 7   Venue            950 non-null    object \n",
      " 8   TossWinner       950 non-null    object \n",
      " 9   TossDecision     950 non-null    object \n",
      " 10  SuperOver        946 non-null    object \n",
      " 11  WinningTeam      946 non-null    object \n",
      " 12  WonBy            950 non-null    object \n",
      " 13  Margin           932 non-null    float64\n",
      " 14  method           19 non-null     object \n",
      " 15  Player_of_Match  946 non-null    object \n",
      " 16  Team1Players     950 non-null    object \n",
      " 17  Team2Players     950 non-null    object \n",
      " 18  Umpire1          950 non-null    object \n",
      " 19  Umpire2          950 non-null    object \n",
      "dtypes: float64(1), int64(1), object(18)\n",
      "memory usage: 148.6+ KB\n"
     ]
    },
    {
     "data": {
      "text/plain": [
       "0      1312200\n",
       "1      1312199\n",
       "2      1312198\n",
       "3      1312197\n",
       "4      1304116\n",
       "        ...   \n",
       "945     335986\n",
       "946     335985\n",
       "947     335984\n",
       "948     335983\n",
       "949     335982\n",
       "Name: ID, Length: 950, dtype: int32"
      ]
     },
     "execution_count": 6,
     "metadata": {},
     "output_type": "execute_result"
    }
   ],
   "source": [
    "ipl_df.info()\n",
    "#reduce size of data in ram\n",
    "# int64-- int 32\n",
    "ipl_df['ID'].astype('int32')"
   ]
  },
  {
   "cell_type": "code",
   "execution_count": 9,
   "metadata": {},
   "outputs": [
    {
     "name": "stdout",
     "output_type": "stream",
     "text": [
      "<class 'pandas.core.frame.DataFrame'>\n",
      "RangeIndex: 950 entries, 0 to 949\n",
      "Data columns (total 20 columns):\n",
      " #   Column           Non-Null Count  Dtype  \n",
      "---  ------           --------------  -----  \n",
      " 0   ID               950 non-null    int32  \n",
      " 1   City             899 non-null    object \n",
      " 2   Date             950 non-null    object \n",
      " 3   Season           950 non-null    object \n",
      " 4   MatchNumber      950 non-null    object \n",
      " 5   Team1            950 non-null    object \n",
      " 6   Team2            950 non-null    object \n",
      " 7   Venue            950 non-null    object \n",
      " 8   TossWinner       950 non-null    object \n",
      " 9   TossDecision     950 non-null    object \n",
      " 10  SuperOver        946 non-null    object \n",
      " 11  WinningTeam      946 non-null    object \n",
      " 12  WonBy            950 non-null    object \n",
      " 13  Margin           932 non-null    float64\n",
      " 14  method           19 non-null     object \n",
      " 15  Player_of_Match  946 non-null    object \n",
      " 16  Team1Players     950 non-null    object \n",
      " 17  Team2Players     950 non-null    object \n",
      " 18  Umpire1          950 non-null    object \n",
      " 19  Umpire2          950 non-null    object \n",
      "dtypes: float64(1), int32(1), object(18)\n",
      "memory usage: 144.9+ KB\n"
     ]
    }
   ],
   "source": [
    "#for permanent change\n",
    "ipl_df['ID']=ipl_df['ID'].astype('int32')\n",
    "ipl_df.info()\n",
    "# size 148kb to 144kb"
   ]
  },
  {
   "cell_type": "code",
   "execution_count": 13,
   "metadata": {},
   "outputs": [
    {
     "name": "stdout",
     "output_type": "stream",
     "text": [
      "<class 'pandas.core.frame.DataFrame'>\n",
      "RangeIndex: 950 entries, 0 to 949\n",
      "Data columns (total 20 columns):\n",
      " #   Column           Non-Null Count  Dtype   \n",
      "---  ------           --------------  -----   \n",
      " 0   ID               950 non-null    int32   \n",
      " 1   City             899 non-null    object  \n",
      " 2   Date             950 non-null    object  \n",
      " 3   Season           950 non-null    category\n",
      " 4   MatchNumber      950 non-null    object  \n",
      " 5   Team1            950 non-null    category\n",
      " 6   Team2            950 non-null    category\n",
      " 7   Venue            950 non-null    object  \n",
      " 8   TossWinner       950 non-null    object  \n",
      " 9   TossDecision     950 non-null    object  \n",
      " 10  SuperOver        946 non-null    object  \n",
      " 11  WinningTeam      946 non-null    object  \n",
      " 12  WonBy            950 non-null    object  \n",
      " 13  Margin           932 non-null    float64 \n",
      " 14  method           19 non-null     object  \n",
      " 15  Player_of_Match  946 non-null    object  \n",
      " 16  Team1Players     950 non-null    object  \n",
      " 17  Team2Players     950 non-null    object  \n",
      " 18  Umpire1          950 non-null    object  \n",
      " 19  Umpire2          950 non-null    object  \n",
      "dtypes: category(3), float64(1), int32(1), object(15)\n",
      "memory usage: 127.4+ KB\n"
     ]
    },
    {
     "ename": "NameError",
     "evalue": "name 'ipl' is not defined",
     "output_type": "error",
     "traceback": [
      "\u001b[1;31m---------------------------------------------------------------------------\u001b[0m",
      "\u001b[1;31mNameError\u001b[0m                                 Traceback (most recent call last)",
      "Cell \u001b[1;32mIn[13], line 8\u001b[0m\n\u001b[0;32m      6\u001b[0m ipl_df[\u001b[38;5;124m'\u001b[39m\u001b[38;5;124mTeam1\u001b[39m\u001b[38;5;124m'\u001b[39m]\u001b[38;5;241m=\u001b[39mipl_df[\u001b[38;5;124m'\u001b[39m\u001b[38;5;124mTeam1\u001b[39m\u001b[38;5;124m'\u001b[39m]\u001b[38;5;241m.\u001b[39mastype(\u001b[38;5;124m'\u001b[39m\u001b[38;5;124mcategory\u001b[39m\u001b[38;5;124m'\u001b[39m)\n\u001b[0;32m      7\u001b[0m ipl_df[\u001b[38;5;124m'\u001b[39m\u001b[38;5;124mTeam2\u001b[39m\u001b[38;5;124m'\u001b[39m]\u001b[38;5;241m=\u001b[39mipl_df[\u001b[38;5;124m'\u001b[39m\u001b[38;5;124mTeam2\u001b[39m\u001b[38;5;124m'\u001b[39m]\u001b[38;5;241m.\u001b[39mastype(\u001b[38;5;124m'\u001b[39m\u001b[38;5;124mcategory\u001b[39m\u001b[38;5;124m'\u001b[39m)\n\u001b[1;32m----> 8\u001b[0m \u001b[43mipl\u001b[49m\u001b[38;5;241m.\u001b[39minfo()\n",
      "\u001b[1;31mNameError\u001b[0m: name 'ipl' is not defined"
     ]
    }
   ],
   "source": [
    "# season is stored as string we can conver to category to reduce size\n",
    "ipl_df['Season']=ipl_df['Season'].astype('category')\n",
    "ipl_df.info()\n",
    "# 144kb to 139kb \n",
    "#same team 1 team 2 col can be category\n",
    "ipl_df['Team1']=ipl_df['Team1'].astype('category')\n",
    "ipl_df['Team2']=ipl_df['Team2'].astype('category')\n",
    "ipl_df.info()\n",
    "# 139kb to 127kb"
   ]
  }
 ],
 "metadata": {
  "kernelspec": {
   "display_name": "Python 3",
   "language": "python",
   "name": "python3"
  },
  "language_info": {
   "codemirror_mode": {
    "name": "ipython",
    "version": 3
   },
   "file_extension": ".py",
   "mimetype": "text/x-python",
   "name": "python",
   "nbconvert_exporter": "python",
   "pygments_lexer": "ipython3",
   "version": "3.10.4"
  }
 },
 "nbformat": 4,
 "nbformat_minor": 2
}
