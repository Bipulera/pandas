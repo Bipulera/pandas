{
 "cells": [
  {
   "cell_type": "code",
   "execution_count": 1,
   "metadata": {},
   "outputs": [],
   "source": [
    "#dataframe attribute and methods"
   ]
  },
  {
   "cell_type": "code",
   "execution_count": 26,
   "metadata": {},
   "outputs": [],
   "source": [
    "import numpy as np\n",
    "import pandas as pd\n",
    "movies_df=pd.read_csv(r'C:\\Users\\HP\\Desktop\\all folder\\pandas\\movies.csv')\n",
    "ipl_df=pd.read_csv(r'C:\\Users\\HP\\Desktop\\all folder\\pandas\\ipl-matches.csv')\n",
    "student_details_dict={\n",
    "    'iq':[100,90,120,80,0,0],\n",
    "    'marks':[80,70,100,50,0,0],\n",
    "    'package':[10,7,14,2,0,0]\n",
    "}\n",
    "student_df=pd.DataFrame(student_details_dict)"
   ]
  },
  {
   "cell_type": "code",
   "execution_count": 4,
   "metadata": {},
   "outputs": [
    {
     "data": {
      "text/plain": [
       "(950, 20)"
      ]
     },
     "execution_count": 4,
     "metadata": {},
     "output_type": "execute_result"
    }
   ],
   "source": [
    "#shape\n",
    "movies_df.shape\n",
    "ipl_df.shape"
   ]
  },
  {
   "cell_type": "code",
   "execution_count": 6,
   "metadata": {},
   "outputs": [
    {
     "data": {
      "text/plain": [
       "ID                   int64\n",
       "City                object\n",
       "Date                object\n",
       "Season              object\n",
       "MatchNumber         object\n",
       "Team1               object\n",
       "Team2               object\n",
       "Venue               object\n",
       "TossWinner          object\n",
       "TossDecision        object\n",
       "SuperOver           object\n",
       "WinningTeam         object\n",
       "WonBy               object\n",
       "Margin             float64\n",
       "method              object\n",
       "Player_of_Match     object\n",
       "Team1Players        object\n",
       "Team2Players        object\n",
       "Umpire1             object\n",
       "Umpire2             object\n",
       "dtype: object"
      ]
     },
     "execution_count": 6,
     "metadata": {},
     "output_type": "execute_result"
    }
   ],
   "source": [
    "#dtypes\n",
    "movies_df.dtypes\n",
    "ipl_df.dtypes\n"
   ]
  },
  {
   "cell_type": "code",
   "execution_count": 8,
   "metadata": {},
   "outputs": [
    {
     "data": {
      "text/plain": [
       "RangeIndex(start=0, stop=950, step=1)"
      ]
     },
     "execution_count": 8,
     "metadata": {},
     "output_type": "execute_result"
    }
   ],
   "source": [
    "#index\n",
    "movies_df.index\n",
    "ipl_df.index"
   ]
  },
  {
   "cell_type": "code",
   "execution_count": 9,
   "metadata": {},
   "outputs": [
    {
     "data": {
      "text/plain": [
       "Index(['title_x', 'imdb_id', 'poster_path', 'wiki_link', 'title_y',\n",
       "       'original_title', 'is_adult', 'year_of_release', 'runtime', 'genres',\n",
       "       'imdb_rating', 'imdb_votes', 'story', 'summary', 'tagline', 'actors',\n",
       "       'wins_nominations', 'release_date'],\n",
       "      dtype='object')"
      ]
     },
     "execution_count": 9,
     "metadata": {},
     "output_type": "execute_result"
    }
   ],
   "source": [
    "#columns\n",
    "movies_df.columns"
   ]
  },
  {
   "cell_type": "code",
   "execution_count": 12,
   "metadata": {},
   "outputs": [
    {
     "data": {
      "text/plain": [
       "array([[100,  80,  10],\n",
       "       [ 90,  70,   7],\n",
       "       [120, 100,  14],\n",
       "       [ 80,  50,   2]], dtype=int64)"
      ]
     },
     "execution_count": 12,
     "metadata": {},
     "output_type": "execute_result"
    }
   ],
   "source": [
    "#values\n",
    "ipl_df.values\n",
    "student_df.values\n"
   ]
  },
  {
   "cell_type": "code",
   "execution_count": 14,
   "metadata": {},
   "outputs": [
    {
     "data": {
      "text/html": [
       "<div>\n",
       "<style scoped>\n",
       "    .dataframe tbody tr th:only-of-type {\n",
       "        vertical-align: middle;\n",
       "    }\n",
       "\n",
       "    .dataframe tbody tr th {\n",
       "        vertical-align: top;\n",
       "    }\n",
       "\n",
       "    .dataframe thead th {\n",
       "        text-align: right;\n",
       "    }\n",
       "</style>\n",
       "<table border=\"1\" class=\"dataframe\">\n",
       "  <thead>\n",
       "    <tr style=\"text-align: right;\">\n",
       "      <th></th>\n",
       "      <th>title_x</th>\n",
       "      <th>imdb_id</th>\n",
       "      <th>poster_path</th>\n",
       "      <th>wiki_link</th>\n",
       "      <th>title_y</th>\n",
       "      <th>original_title</th>\n",
       "      <th>is_adult</th>\n",
       "      <th>year_of_release</th>\n",
       "      <th>runtime</th>\n",
       "      <th>genres</th>\n",
       "      <th>imdb_rating</th>\n",
       "      <th>imdb_votes</th>\n",
       "      <th>story</th>\n",
       "      <th>summary</th>\n",
       "      <th>tagline</th>\n",
       "      <th>actors</th>\n",
       "      <th>wins_nominations</th>\n",
       "      <th>release_date</th>\n",
       "    </tr>\n",
       "  </thead>\n",
       "  <tbody>\n",
       "    <tr>\n",
       "      <th>0</th>\n",
       "      <td>Uri: The Surgical Strike</td>\n",
       "      <td>tt8291224</td>\n",
       "      <td>https://upload.wikimedia.org/wikipedia/en/thum...</td>\n",
       "      <td>https://en.wikipedia.org/wiki/Uri:_The_Surgica...</td>\n",
       "      <td>Uri: The Surgical Strike</td>\n",
       "      <td>Uri: The Surgical Strike</td>\n",
       "      <td>0</td>\n",
       "      <td>2019</td>\n",
       "      <td>138</td>\n",
       "      <td>Action|Drama|War</td>\n",
       "      <td>8.4</td>\n",
       "      <td>35112</td>\n",
       "      <td>Divided over five chapters  the film chronicle...</td>\n",
       "      <td>Indian army special forces execute a covert op...</td>\n",
       "      <td>NaN</td>\n",
       "      <td>Vicky Kaushal|Paresh Rawal|Mohit Raina|Yami Ga...</td>\n",
       "      <td>4 wins</td>\n",
       "      <td>11 January 2019 (USA)</td>\n",
       "    </tr>\n",
       "    <tr>\n",
       "      <th>1</th>\n",
       "      <td>Battalion 609</td>\n",
       "      <td>tt9472208</td>\n",
       "      <td>NaN</td>\n",
       "      <td>https://en.wikipedia.org/wiki/Battalion_609</td>\n",
       "      <td>Battalion 609</td>\n",
       "      <td>Battalion 609</td>\n",
       "      <td>0</td>\n",
       "      <td>2019</td>\n",
       "      <td>131</td>\n",
       "      <td>War</td>\n",
       "      <td>4.1</td>\n",
       "      <td>73</td>\n",
       "      <td>The story revolves around a cricket match betw...</td>\n",
       "      <td>The story of Battalion 609 revolves around a c...</td>\n",
       "      <td>NaN</td>\n",
       "      <td>Vicky Ahuja|Shoaib Ibrahim|Shrikant Kamat|Elen...</td>\n",
       "      <td>NaN</td>\n",
       "      <td>11 January 2019 (India)</td>\n",
       "    </tr>\n",
       "  </tbody>\n",
       "</table>\n",
       "</div>"
      ],
      "text/plain": [
       "                    title_x    imdb_id  \\\n",
       "0  Uri: The Surgical Strike  tt8291224   \n",
       "1             Battalion 609  tt9472208   \n",
       "\n",
       "                                         poster_path  \\\n",
       "0  https://upload.wikimedia.org/wikipedia/en/thum...   \n",
       "1                                                NaN   \n",
       "\n",
       "                                           wiki_link  \\\n",
       "0  https://en.wikipedia.org/wiki/Uri:_The_Surgica...   \n",
       "1        https://en.wikipedia.org/wiki/Battalion_609   \n",
       "\n",
       "                    title_y            original_title  is_adult  \\\n",
       "0  Uri: The Surgical Strike  Uri: The Surgical Strike         0   \n",
       "1             Battalion 609             Battalion 609         0   \n",
       "\n",
       "   year_of_release runtime            genres  imdb_rating  imdb_votes  \\\n",
       "0             2019     138  Action|Drama|War          8.4       35112   \n",
       "1             2019     131               War          4.1          73   \n",
       "\n",
       "                                               story  \\\n",
       "0  Divided over five chapters  the film chronicle...   \n",
       "1  The story revolves around a cricket match betw...   \n",
       "\n",
       "                                             summary tagline  \\\n",
       "0  Indian army special forces execute a covert op...     NaN   \n",
       "1  The story of Battalion 609 revolves around a c...     NaN   \n",
       "\n",
       "                                              actors wins_nominations  \\\n",
       "0  Vicky Kaushal|Paresh Rawal|Mohit Raina|Yami Ga...           4 wins   \n",
       "1  Vicky Ahuja|Shoaib Ibrahim|Shrikant Kamat|Elen...              NaN   \n",
       "\n",
       "              release_date  \n",
       "0    11 January 2019 (USA)  \n",
       "1  11 January 2019 (India)  "
      ]
     },
     "execution_count": 14,
     "metadata": {},
     "output_type": "execute_result"
    }
   ],
   "source": [
    "#head and tail\n",
    "movies_df.head(2)"
   ]
  },
  {
   "cell_type": "code",
   "execution_count": 18,
   "metadata": {},
   "outputs": [
    {
     "data": {
      "text/html": [
       "<div>\n",
       "<style scoped>\n",
       "    .dataframe tbody tr th:only-of-type {\n",
       "        vertical-align: middle;\n",
       "    }\n",
       "\n",
       "    .dataframe tbody tr th {\n",
       "        vertical-align: top;\n",
       "    }\n",
       "\n",
       "    .dataframe thead th {\n",
       "        text-align: right;\n",
       "    }\n",
       "</style>\n",
       "<table border=\"1\" class=\"dataframe\">\n",
       "  <thead>\n",
       "    <tr style=\"text-align: right;\">\n",
       "      <th></th>\n",
       "      <th>title_x</th>\n",
       "      <th>imdb_id</th>\n",
       "      <th>poster_path</th>\n",
       "      <th>wiki_link</th>\n",
       "      <th>title_y</th>\n",
       "      <th>original_title</th>\n",
       "      <th>is_adult</th>\n",
       "      <th>year_of_release</th>\n",
       "      <th>runtime</th>\n",
       "      <th>genres</th>\n",
       "      <th>imdb_rating</th>\n",
       "      <th>imdb_votes</th>\n",
       "      <th>story</th>\n",
       "      <th>summary</th>\n",
       "      <th>tagline</th>\n",
       "      <th>actors</th>\n",
       "      <th>wins_nominations</th>\n",
       "      <th>release_date</th>\n",
       "    </tr>\n",
       "  </thead>\n",
       "  <tbody>\n",
       "    <tr>\n",
       "      <th>645</th>\n",
       "      <td>Wake Up India</td>\n",
       "      <td>tt3766798</td>\n",
       "      <td>https://upload.wikimedia.org/wikipedia/en/thum...</td>\n",
       "      <td>https://en.wikipedia.org/wiki/Wake_Up_India</td>\n",
       "      <td>Wake Up India</td>\n",
       "      <td>Wake Up India</td>\n",
       "      <td>0</td>\n",
       "      <td>2013</td>\n",
       "      <td>130</td>\n",
       "      <td>Drama</td>\n",
       "      <td>6.3</td>\n",
       "      <td>6</td>\n",
       "      <td>A girl ( Sai Tamhankar) stages protest against...</td>\n",
       "      <td>A girl ( Sai Tamhankar) stages protest against...</td>\n",
       "      <td>NaN</td>\n",
       "      <td>Elisha Kriis|Asrani|Milind Gunaji|Adi Irani|An...</td>\n",
       "      <td>NaN</td>\n",
       "      <td>23 October 2013 (India)</td>\n",
       "    </tr>\n",
       "    <tr>\n",
       "      <th>1499</th>\n",
       "      <td>23rd March 1931: Shaheed</td>\n",
       "      <td>tt0324951</td>\n",
       "      <td>https://upload.wikimedia.org/wikipedia/en/thum...</td>\n",
       "      <td>https://en.wikipedia.org/wiki/23rd_March_1931:...</td>\n",
       "      <td>23rd March 1931: Shaheed</td>\n",
       "      <td>23rd March 1931: Shaheed</td>\n",
       "      <td>0</td>\n",
       "      <td>2002</td>\n",
       "      <td>188</td>\n",
       "      <td>Biography|Drama|History</td>\n",
       "      <td>5.0</td>\n",
       "      <td>570</td>\n",
       "      <td>When his mentor Lala Lajpatrai is mercilessly ...</td>\n",
       "      <td>When his mentor Lala Lajpatrai is mercilessly ...</td>\n",
       "      <td>NaN</td>\n",
       "      <td>Bobby Deol|Sunny Deol|Amrita Singh|Rahul Dev|V...</td>\n",
       "      <td>1 win</td>\n",
       "      <td>7 June 2002 (USA)</td>\n",
       "    </tr>\n",
       "  </tbody>\n",
       "</table>\n",
       "</div>"
      ],
      "text/plain": [
       "                       title_x    imdb_id  \\\n",
       "645              Wake Up India  tt3766798   \n",
       "1499  23rd March 1931: Shaheed  tt0324951   \n",
       "\n",
       "                                            poster_path  \\\n",
       "645   https://upload.wikimedia.org/wikipedia/en/thum...   \n",
       "1499  https://upload.wikimedia.org/wikipedia/en/thum...   \n",
       "\n",
       "                                              wiki_link  \\\n",
       "645         https://en.wikipedia.org/wiki/Wake_Up_India   \n",
       "1499  https://en.wikipedia.org/wiki/23rd_March_1931:...   \n",
       "\n",
       "                       title_y            original_title  is_adult  \\\n",
       "645              Wake Up India             Wake Up India         0   \n",
       "1499  23rd March 1931: Shaheed  23rd March 1931: Shaheed         0   \n",
       "\n",
       "      year_of_release runtime                   genres  imdb_rating  \\\n",
       "645              2013     130                    Drama          6.3   \n",
       "1499             2002     188  Biography|Drama|History          5.0   \n",
       "\n",
       "      imdb_votes                                              story  \\\n",
       "645            6  A girl ( Sai Tamhankar) stages protest against...   \n",
       "1499         570  When his mentor Lala Lajpatrai is mercilessly ...   \n",
       "\n",
       "                                                summary tagline  \\\n",
       "645   A girl ( Sai Tamhankar) stages protest against...     NaN   \n",
       "1499  When his mentor Lala Lajpatrai is mercilessly ...     NaN   \n",
       "\n",
       "                                                 actors wins_nominations  \\\n",
       "645   Elisha Kriis|Asrani|Milind Gunaji|Adi Irani|An...              NaN   \n",
       "1499  Bobby Deol|Sunny Deol|Amrita Singh|Rahul Dev|V...            1 win   \n",
       "\n",
       "                 release_date  \n",
       "645   23 October 2013 (India)  \n",
       "1499        7 June 2002 (USA)  "
      ]
     },
     "execution_count": 18,
     "metadata": {},
     "output_type": "execute_result"
    }
   ],
   "source": [
    "#sample - random rows provide\n",
    "movies_df.sample(2)\n"
   ]
  },
  {
   "cell_type": "code",
   "execution_count": 19,
   "metadata": {},
   "outputs": [
    {
     "name": "stdout",
     "output_type": "stream",
     "text": [
      "<class 'pandas.core.frame.DataFrame'>\n",
      "RangeIndex: 1629 entries, 0 to 1628\n",
      "Data columns (total 18 columns):\n",
      " #   Column            Non-Null Count  Dtype  \n",
      "---  ------            --------------  -----  \n",
      " 0   title_x           1629 non-null   object \n",
      " 1   imdb_id           1629 non-null   object \n",
      " 2   poster_path       1526 non-null   object \n",
      " 3   wiki_link         1629 non-null   object \n",
      " 4   title_y           1629 non-null   object \n",
      " 5   original_title    1629 non-null   object \n",
      " 6   is_adult          1629 non-null   int64  \n",
      " 7   year_of_release   1629 non-null   int64  \n",
      " 8   runtime           1629 non-null   object \n",
      " 9   genres            1629 non-null   object \n",
      " 10  imdb_rating       1629 non-null   float64\n",
      " 11  imdb_votes        1629 non-null   int64  \n",
      " 12  story             1609 non-null   object \n",
      " 13  summary           1629 non-null   object \n",
      " 14  tagline           557 non-null    object \n",
      " 15  actors            1624 non-null   object \n",
      " 16  wins_nominations  707 non-null    object \n",
      " 17  release_date      1522 non-null   object \n",
      "dtypes: float64(1), int64(3), object(14)\n",
      "memory usage: 229.2+ KB\n"
     ]
    }
   ],
   "source": [
    "#info\n",
    "movies_df.info()"
   ]
  },
  {
   "cell_type": "code",
   "execution_count": 20,
   "metadata": {},
   "outputs": [
    {
     "data": {
      "text/html": [
       "<div>\n",
       "<style scoped>\n",
       "    .dataframe tbody tr th:only-of-type {\n",
       "        vertical-align: middle;\n",
       "    }\n",
       "\n",
       "    .dataframe tbody tr th {\n",
       "        vertical-align: top;\n",
       "    }\n",
       "\n",
       "    .dataframe thead th {\n",
       "        text-align: right;\n",
       "    }\n",
       "</style>\n",
       "<table border=\"1\" class=\"dataframe\">\n",
       "  <thead>\n",
       "    <tr style=\"text-align: right;\">\n",
       "      <th></th>\n",
       "      <th>is_adult</th>\n",
       "      <th>year_of_release</th>\n",
       "      <th>imdb_rating</th>\n",
       "      <th>imdb_votes</th>\n",
       "    </tr>\n",
       "  </thead>\n",
       "  <tbody>\n",
       "    <tr>\n",
       "      <th>count</th>\n",
       "      <td>1629.0</td>\n",
       "      <td>1629.000000</td>\n",
       "      <td>1629.000000</td>\n",
       "      <td>1629.000000</td>\n",
       "    </tr>\n",
       "    <tr>\n",
       "      <th>mean</th>\n",
       "      <td>0.0</td>\n",
       "      <td>2010.263966</td>\n",
       "      <td>5.557459</td>\n",
       "      <td>5384.263352</td>\n",
       "    </tr>\n",
       "    <tr>\n",
       "      <th>std</th>\n",
       "      <td>0.0</td>\n",
       "      <td>5.381542</td>\n",
       "      <td>1.567609</td>\n",
       "      <td>14552.103231</td>\n",
       "    </tr>\n",
       "    <tr>\n",
       "      <th>min</th>\n",
       "      <td>0.0</td>\n",
       "      <td>2001.000000</td>\n",
       "      <td>0.000000</td>\n",
       "      <td>0.000000</td>\n",
       "    </tr>\n",
       "    <tr>\n",
       "      <th>25%</th>\n",
       "      <td>0.0</td>\n",
       "      <td>2005.000000</td>\n",
       "      <td>4.400000</td>\n",
       "      <td>233.000000</td>\n",
       "    </tr>\n",
       "    <tr>\n",
       "      <th>50%</th>\n",
       "      <td>0.0</td>\n",
       "      <td>2011.000000</td>\n",
       "      <td>5.600000</td>\n",
       "      <td>1000.000000</td>\n",
       "    </tr>\n",
       "    <tr>\n",
       "      <th>75%</th>\n",
       "      <td>0.0</td>\n",
       "      <td>2015.000000</td>\n",
       "      <td>6.800000</td>\n",
       "      <td>4287.000000</td>\n",
       "    </tr>\n",
       "    <tr>\n",
       "      <th>max</th>\n",
       "      <td>0.0</td>\n",
       "      <td>2019.000000</td>\n",
       "      <td>9.400000</td>\n",
       "      <td>310481.000000</td>\n",
       "    </tr>\n",
       "  </tbody>\n",
       "</table>\n",
       "</div>"
      ],
      "text/plain": [
       "       is_adult  year_of_release  imdb_rating     imdb_votes\n",
       "count    1629.0      1629.000000  1629.000000    1629.000000\n",
       "mean        0.0      2010.263966     5.557459    5384.263352\n",
       "std         0.0         5.381542     1.567609   14552.103231\n",
       "min         0.0      2001.000000     0.000000       0.000000\n",
       "25%         0.0      2005.000000     4.400000     233.000000\n",
       "50%         0.0      2011.000000     5.600000    1000.000000\n",
       "75%         0.0      2015.000000     6.800000    4287.000000\n",
       "max         0.0      2019.000000     9.400000  310481.000000"
      ]
     },
     "execution_count": 20,
     "metadata": {},
     "output_type": "execute_result"
    }
   ],
   "source": [
    "#describe --mathematical summary \n",
    "movies_df.describe()"
   ]
  },
  {
   "cell_type": "code",
   "execution_count": 22,
   "metadata": {},
   "outputs": [
    {
     "data": {
      "text/plain": [
       "title_x                0\n",
       "imdb_id                0\n",
       "poster_path          103\n",
       "wiki_link              0\n",
       "title_y                0\n",
       "original_title         0\n",
       "is_adult               0\n",
       "year_of_release        0\n",
       "runtime                0\n",
       "genres                 0\n",
       "imdb_rating            0\n",
       "imdb_votes             0\n",
       "story                 20\n",
       "summary                0\n",
       "tagline             1072\n",
       "actors                 5\n",
       "wins_nominations     922\n",
       "release_date         107\n",
       "dtype: int64"
      ]
     },
     "execution_count": 22,
     "metadata": {},
     "output_type": "execute_result"
    }
   ],
   "source": [
    "#isnull() + sum() -- tell that null values are there using T/F and\n",
    "#  sum add all to to konw how many missing value\n",
    "movies_df.isnull().sum()"
   ]
  },
  {
   "cell_type": "code",
   "execution_count": 24,
   "metadata": {},
   "outputs": [
    {
     "data": {
      "text/plain": [
       "0"
      ]
     },
     "execution_count": 24,
     "metadata": {},
     "output_type": "execute_result"
    }
   ],
   "source": [
    "#duplicated -- find duplicate rows\n",
    "movies_df.duplicated().sum()"
   ]
  },
  {
   "cell_type": "code",
   "execution_count": 30,
   "metadata": {},
   "outputs": [
    {
     "data": {
      "text/plain": [
       "1"
      ]
     },
     "execution_count": 30,
     "metadata": {},
     "output_type": "execute_result"
    }
   ],
   "source": [
    "student_df.duplicated().sum()\n",
    "#so there is 1 duplicated row\n"
   ]
  },
  {
   "cell_type": "code",
   "execution_count": 31,
   "metadata": {},
   "outputs": [
    {
     "data": {
      "text/html": [
       "<div>\n",
       "<style scoped>\n",
       "    .dataframe tbody tr th:only-of-type {\n",
       "        vertical-align: middle;\n",
       "    }\n",
       "\n",
       "    .dataframe tbody tr th {\n",
       "        vertical-align: top;\n",
       "    }\n",
       "\n",
       "    .dataframe thead th {\n",
       "        text-align: right;\n",
       "    }\n",
       "</style>\n",
       "<table border=\"1\" class=\"dataframe\">\n",
       "  <thead>\n",
       "    <tr style=\"text-align: right;\">\n",
       "      <th></th>\n",
       "      <th>iq</th>\n",
       "      <th>marks</th>\n",
       "      <th>package</th>\n",
       "    </tr>\n",
       "  </thead>\n",
       "  <tbody>\n",
       "    <tr>\n",
       "      <th>5</th>\n",
       "      <td>0</td>\n",
       "      <td>0</td>\n",
       "      <td>0</td>\n",
       "    </tr>\n",
       "  </tbody>\n",
       "</table>\n",
       "</div>"
      ],
      "text/plain": [
       "   iq  marks  package\n",
       "5   0      0        0"
      ]
     },
     "execution_count": 31,
     "metadata": {},
     "output_type": "execute_result"
    }
   ],
   "source": [
    "#how to fetch that row\n",
    "student_df[student_df.duplicated()]"
   ]
  },
  {
   "cell_type": "code",
   "execution_count": 36,
   "metadata": {},
   "outputs": [
    {
     "data": {
      "text/html": [
       "<div>\n",
       "<style scoped>\n",
       "    .dataframe tbody tr th:only-of-type {\n",
       "        vertical-align: middle;\n",
       "    }\n",
       "\n",
       "    .dataframe tbody tr th {\n",
       "        vertical-align: top;\n",
       "    }\n",
       "\n",
       "    .dataframe thead th {\n",
       "        text-align: right;\n",
       "    }\n",
       "</style>\n",
       "<table border=\"1\" class=\"dataframe\">\n",
       "  <thead>\n",
       "    <tr style=\"text-align: right;\">\n",
       "      <th></th>\n",
       "      <th>iq</th>\n",
       "      <th>score</th>\n",
       "      <th>package</th>\n",
       "    </tr>\n",
       "  </thead>\n",
       "  <tbody>\n",
       "    <tr>\n",
       "      <th>0</th>\n",
       "      <td>100</td>\n",
       "      <td>80</td>\n",
       "      <td>10</td>\n",
       "    </tr>\n",
       "    <tr>\n",
       "      <th>1</th>\n",
       "      <td>90</td>\n",
       "      <td>70</td>\n",
       "      <td>7</td>\n",
       "    </tr>\n",
       "    <tr>\n",
       "      <th>2</th>\n",
       "      <td>120</td>\n",
       "      <td>100</td>\n",
       "      <td>14</td>\n",
       "    </tr>\n",
       "    <tr>\n",
       "      <th>3</th>\n",
       "      <td>80</td>\n",
       "      <td>50</td>\n",
       "      <td>2</td>\n",
       "    </tr>\n",
       "    <tr>\n",
       "      <th>4</th>\n",
       "      <td>0</td>\n",
       "      <td>0</td>\n",
       "      <td>0</td>\n",
       "    </tr>\n",
       "    <tr>\n",
       "      <th>5</th>\n",
       "      <td>0</td>\n",
       "      <td>0</td>\n",
       "      <td>0</td>\n",
       "    </tr>\n",
       "  </tbody>\n",
       "</table>\n",
       "</div>"
      ],
      "text/plain": [
       "    iq  score  package\n",
       "0  100     80       10\n",
       "1   90     70        7\n",
       "2  120    100       14\n",
       "3   80     50        2\n",
       "4    0      0        0\n",
       "5    0      0        0"
      ]
     },
     "execution_count": 36,
     "metadata": {},
     "output_type": "execute_result"
    }
   ],
   "source": [
    "#rename -- change column name (we do this as dictionary--columns={'previous_name':'new_name'})\n",
    "student_df.rename(columns={'marks':'score'})\n",
    "\n",
    "#this is not permanent change. use inplace=true\n",
    "student_df.rename(columns={'marks':'score'},inplace=True)\n",
    "student_df\n",
    "\n"
   ]
  },
  {
   "cell_type": "code",
   "execution_count": null,
   "metadata": {},
   "outputs": [],
   "source": []
  }
 ],
 "metadata": {
  "kernelspec": {
   "display_name": "Python 3",
   "language": "python",
   "name": "python3"
  },
  "language_info": {
   "codemirror_mode": {
    "name": "ipython",
    "version": 3
   },
   "file_extension": ".py",
   "mimetype": "text/x-python",
   "name": "python",
   "nbconvert_exporter": "python",
   "pygments_lexer": "ipython3",
   "version": "3.10.4"
  }
 },
 "nbformat": 4,
 "nbformat_minor": 2
}
